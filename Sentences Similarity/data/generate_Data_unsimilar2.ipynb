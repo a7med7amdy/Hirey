{
 "cells": [
  {
   "cell_type": "code",
   "execution_count": 1,
   "metadata": {},
   "outputs": [],
   "source": [
    "import pandas as pd\n",
    "import csv \n",
    "import time\n",
    "import os\n",
    "import nltk\n",
    "import cv2"
   ]
  },
  {
   "cell_type": "code",
   "execution_count": 2,
   "metadata": {},
   "outputs": [
    {
     "data": {
      "text/html": [
       "<div>\n",
       "<style scoped>\n",
       "    .dataframe tbody tr th:only-of-type {\n",
       "        vertical-align: middle;\n",
       "    }\n",
       "\n",
       "    .dataframe tbody tr th {\n",
       "        vertical-align: top;\n",
       "    }\n",
       "\n",
       "    .dataframe thead th {\n",
       "        text-align: right;\n",
       "    }\n",
       "</style>\n",
       "<table border=\"1\" class=\"dataframe\">\n",
       "  <thead>\n",
       "    <tr style=\"text-align: right;\">\n",
       "      <th></th>\n",
       "      <th>Questions</th>\n",
       "      <th>Model Answer</th>\n",
       "      <th>Answer</th>\n",
       "      <th>Class</th>\n",
       "    </tr>\n",
       "  </thead>\n",
       "  <tbody>\n",
       "    <tr>\n",
       "      <th>0</th>\n",
       "      <td>What do you understand by Natural Language Pro...</td>\n",
       "      <td>Natural language processing is a branch of art...</td>\n",
       "      <td>Natural Language Processing is a field of comp...</td>\n",
       "      <td>1</td>\n",
       "    </tr>\n",
       "    <tr>\n",
       "      <th>1</th>\n",
       "      <td>What do you understand by Natural Language Pro...</td>\n",
       "      <td>Natural language processing is a branch of art...</td>\n",
       "      <td>Natural language processing  is the relationsh...</td>\n",
       "      <td>1</td>\n",
       "    </tr>\n",
       "    <tr>\n",
       "      <th>2</th>\n",
       "      <td>What do you understand by Natural Language Pro...</td>\n",
       "      <td>Natural language processing is a branch of art...</td>\n",
       "      <td>Natural language processing is the ability of ...</td>\n",
       "      <td>1</td>\n",
       "    </tr>\n",
       "    <tr>\n",
       "      <th>3</th>\n",
       "      <td>What do you understand by Natural Language Pro...</td>\n",
       "      <td>Natural language processing is a branch of art...</td>\n",
       "      <td>Natural Language Processing or NLP is an autom...</td>\n",
       "      <td>1</td>\n",
       "    </tr>\n",
       "    <tr>\n",
       "      <th>4</th>\n",
       "      <td>What do you understand by Natural Language Pro...</td>\n",
       "      <td>Natural Language Processing is a field of comp...</td>\n",
       "      <td>Natural language processing  is the relationsh...</td>\n",
       "      <td>1</td>\n",
       "    </tr>\n",
       "  </tbody>\n",
       "</table>\n",
       "</div>"
      ],
      "text/plain": [
       "                                          Questions   \\\n",
       "0  What do you understand by Natural Language Pro...   \n",
       "1  What do you understand by Natural Language Pro...   \n",
       "2  What do you understand by Natural Language Pro...   \n",
       "3  What do you understand by Natural Language Pro...   \n",
       "4  What do you understand by Natural Language Pro...   \n",
       "\n",
       "                                        Model Answer  \\\n",
       "0  Natural language processing is a branch of art...   \n",
       "1  Natural language processing is a branch of art...   \n",
       "2  Natural language processing is a branch of art...   \n",
       "3  Natural language processing is a branch of art...   \n",
       "4  Natural Language Processing is a field of comp...   \n",
       "\n",
       "                                             Answer   Class  \n",
       "0  Natural Language Processing is a field of comp...      1  \n",
       "1  Natural language processing  is the relationsh...      1  \n",
       "2  Natural language processing is the ability of ...      1  \n",
       "3  Natural Language Processing or NLP is an autom...      1  \n",
       "4  Natural language processing  is the relationsh...      1  "
      ]
     },
     "execution_count": 2,
     "metadata": {},
     "output_type": "execute_result"
    }
   ],
   "source": [
    "# df= pd.read_csv(\"DL_nour.csv\", encoding= 'unicode_escape')\n",
    "df = pd.read_excel(\"NLP_Ayat.xlsx\")\n",
    "df.head()"
   ]
  },
  {
   "cell_type": "code",
   "execution_count": 15,
   "metadata": {},
   "outputs": [],
   "source": [
    "filename = \"trainNLP.csv\"    \n",
    "with open(filename, 'w', encoding=\"utf-8-sig\", newline='') as csvfile: \n",
    "    csvwriter = csv.writer(csvfile)  \n",
    "    csvwriter.writerow(['Questions', 'ans1', 'ans2', 'class'])  \n",
    "    prev_que = 'What do you understand by Natural Language Processing?' \n",
    "    total = 5\n",
    "    length = 0\n",
    "    for index, row in df.iterrows():\n",
    "        csvwriter.writerow(row)   \n",
    "#        \n",
    "#         if row[0] == prev_que :\n",
    "#             length+=1\n",
    "#         else:\n",
    "#             print(prev_que, length)\n",
    "#             length = 1\n",
    "#         prev_que = row[0]\n",
    "        \n",
    "        for i in range(total):\n",
    "            if index >= 181:\n",
    "                newRow = [row[0], row[1], df.loc[(200-index) + i][2], 0]\n",
    "                csvwriter.writerow(newRow)\n",
    "                secondRow = [df.loc[(200-index) + i][0], df.loc[(200-index) + i][1], row[2], 0]\n",
    "                csvwriter.writerow(secondRow)\n",
    "            else:    \n",
    "                newRow = [row[0], row[1], df.loc[index+i+14][2], 0]\n",
    "                csvwriter.writerow(newRow)\n",
    "                secondRow = [df.loc[index+i+14][0], df.loc[index+i+14][1], row[2], 0]\n",
    "                csvwriter.writerow(secondRow)\n",
    "  "
   ]
  },
  {
   "cell_type": "code",
   "execution_count": 4,
   "metadata": {},
   "outputs": [],
   "source": [
    "filename = \"trainingFileNLP.csv\"    \n",
    "with open(filename, 'w', encoding=\"utf-8-sig\", newline='') as csvfile: \n",
    "    csvwriter = csv.writer(csvfile)  \n",
    "    csvwriter.writerow(['Questions', 'ans1', 'ans2', 'class'])  \n",
    "    prev_que = 'What is deep learning?' \n",
    "    total = 46\n",
    "    for index, row in df.iterrows():\n",
    "        csvwriter.writerow(row)   \n",
    "       \n",
    "        if row[0] != prev_que:\n",
    "            total -= 1 \n",
    "            \n",
    "        for i in range(1,total):\n",
    "            newRow = [row[0], row[1], df.loc[(i*21)+index][2], 0]\n",
    "            csvwriter.writerow(newRow)\n",
    "            secondRow = [df.loc[(i*21)+index][0], df.loc[(i*21)+index][1], row[2], 0]\n",
    "            csvwriter.writerow(secondRow)\n",
    "            \n",
    "        prev_que = row[0]    "
   ]
  },
  {
   "cell_type": "code",
   "execution_count": 4,
   "metadata": {},
   "outputs": [
    {
     "data": {
      "text/html": [
       "<div>\n",
       "<style scoped>\n",
       "    .dataframe tbody tr th:only-of-type {\n",
       "        vertical-align: middle;\n",
       "    }\n",
       "\n",
       "    .dataframe tbody tr th {\n",
       "        vertical-align: top;\n",
       "    }\n",
       "\n",
       "    .dataframe thead th {\n",
       "        text-align: right;\n",
       "    }\n",
       "</style>\n",
       "<table border=\"1\" class=\"dataframe\">\n",
       "  <thead>\n",
       "    <tr style=\"text-align: right;\">\n",
       "      <th></th>\n",
       "      <th>Questions</th>\n",
       "      <th>Model Answer</th>\n",
       "      <th>Answer</th>\n",
       "      <th>Class</th>\n",
       "    </tr>\n",
       "  </thead>\n",
       "  <tbody>\n",
       "    <tr>\n",
       "      <th>0</th>\n",
       "      <td>What do you understand by Natural Language Pro...</td>\n",
       "      <td>Natural language processing is a branch of art...</td>\n",
       "      <td>Natural Language Processing is a field of comp...</td>\n",
       "      <td>1</td>\n",
       "    </tr>\n",
       "    <tr>\n",
       "      <th>1</th>\n",
       "      <td>What do you understand by Natural Language Pro...</td>\n",
       "      <td>Natural language processing is a branch of art...</td>\n",
       "      <td>Natural language processing  is the relationsh...</td>\n",
       "      <td>1</td>\n",
       "    </tr>\n",
       "    <tr>\n",
       "      <th>2</th>\n",
       "      <td>What do you understand by Natural Language Pro...</td>\n",
       "      <td>Natural language processing is a branch of art...</td>\n",
       "      <td>Natural language processing is the ability of ...</td>\n",
       "      <td>1</td>\n",
       "    </tr>\n",
       "    <tr>\n",
       "      <th>3</th>\n",
       "      <td>What do you understand by Natural Language Pro...</td>\n",
       "      <td>Natural language processing is a branch of art...</td>\n",
       "      <td>Natural Language Processing or NLP is an autom...</td>\n",
       "      <td>1</td>\n",
       "    </tr>\n",
       "    <tr>\n",
       "      <th>4</th>\n",
       "      <td>What do you understand by Natural Language Pro...</td>\n",
       "      <td>Natural Language Processing is a field of comp...</td>\n",
       "      <td>Natural language processing  is the relationsh...</td>\n",
       "      <td>1</td>\n",
       "    </tr>\n",
       "  </tbody>\n",
       "</table>\n",
       "</div>"
      ],
      "text/plain": [
       "                                          Questions   \\\n",
       "0  What do you understand by Natural Language Pro...   \n",
       "1  What do you understand by Natural Language Pro...   \n",
       "2  What do you understand by Natural Language Pro...   \n",
       "3  What do you understand by Natural Language Pro...   \n",
       "4  What do you understand by Natural Language Pro...   \n",
       "\n",
       "                                        Model Answer  \\\n",
       "0  Natural language processing is a branch of art...   \n",
       "1  Natural language processing is a branch of art...   \n",
       "2  Natural language processing is a branch of art...   \n",
       "3  Natural language processing is a branch of art...   \n",
       "4  Natural Language Processing is a field of comp...   \n",
       "\n",
       "                                             Answer   Class  \n",
       "0  Natural Language Processing is a field of comp...      1  \n",
       "1  Natural language processing  is the relationsh...      1  \n",
       "2  Natural language processing is the ability of ...      1  \n",
       "3  Natural Language Processing or NLP is an autom...      1  \n",
       "4  Natural language processing  is the relationsh...      1  "
      ]
     },
     "execution_count": 4,
     "metadata": {},
     "output_type": "execute_result"
    }
   ],
   "source": [
    "df = pd.read_excel(\"NLP_Ayat.xlsx\")\n",
    "df.head()"
   ]
  },
  {
   "cell_type": "code",
   "execution_count": 4,
   "metadata": {},
   "outputs": [
    {
     "data": {
      "text/plain": [
       "array([[<matplotlib.axes._subplots.AxesSubplot object at 0x0000024BB55E4390>]],\n",
       "      dtype=object)"
      ]
     },
     "execution_count": 4,
     "metadata": {},
     "output_type": "execute_result"
    },
    {
     "data": {
      "image/png": "[encoded data removed]",
      "text/plain": [
       "<Figure size 432x288 with 1 Axes>"
      ]
     },
     "metadata": {
      "needs_background": "light"
     },
     "output_type": "display_data"
    }
   ],
   "source": [
    "df.hist(column='Class')"
   ]
  },
  {
   "cell_type": "code",
   "execution_count": null,
   "metadata": {},
   "outputs": [],
   "source": []
  }
 ],
 "metadata": {
  "kernelspec": {
   "display_name": "Python 3",
   "language": "python",
   "name": "python3"
  },
  "language_info": {
   "codemirror_mode": {
    "name": "ipython",
    "version": 3
   },
   "file_extension": ".py",
   "mimetype": "text/x-python",
   "name": "python",
   "nbconvert_exporter": "python",
   "pygments_lexer": "ipython3",
   "version": "3.7.3"
  },
  "metadata": {
   "interpreter": {
    "hash": "91383ca01c745ff4f6ec61074eff8198c75652caf775a5c5ee2312577bd67511"
   }
  }
 },
 "nbformat": 4,
 "nbformat_minor": 4
}
