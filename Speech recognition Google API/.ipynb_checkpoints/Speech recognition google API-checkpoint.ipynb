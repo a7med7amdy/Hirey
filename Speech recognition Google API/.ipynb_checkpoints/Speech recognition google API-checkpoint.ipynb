{
 "cells": [
  {
   "cell_type": "code",
   "execution_count": null,
   "id": "a2439527",
   "metadata": {},
   "outputs": [],
   "source": [
    "#pip install --upgrade google-api-python-client\n",
    "#pip install google-cloud\n",
    "#pip install google-cloud-vision\n",
    "#pip install google-cloud-speech\n",
    "#pip install sounddevice --user\n",
    "#pip install soundfile"
   ]
  },
  {
   "cell_type": "code",
   "execution_count": 149,
   "id": "5f709bf9",
   "metadata": {},
   "outputs": [
    {
     "name": "stdout",
     "output_type": "stream",
     "text": [
      "Recording Audio\n",
      "Audio recording complete , Play Audio\n",
      "Play Audio Complete\n"
     ]
    }
   ],
   "source": [
    "import sounddevice as sd\n",
    "import numpy as np\n",
    "import scipy.io.wavfile as wav\n",
    "import soundfile as sf\n",
    "\n",
    "fs=16000\n",
    "duration = 10  # seconds\n",
    "myrecording = sd.rec(duration * fs, samplerate=fs, channels=1)\n",
    "print (\"Recording Audio\")\n",
    "sd.wait()\n",
    "print (\"Audio recording complete , Play Audio\")\n",
    "sd.play(myrecording, fs)\n",
    "sd.wait()\n",
    "print (\"Play Audio Complete\")\n",
    "sf.write('record.wav', myrecording, fs)"
   ]
  },
  {
   "cell_type": "code",
   "execution_count": 6,
   "id": "e6771e74",
   "metadata": {},
   "outputs": [],
   "source": [
    "import io\n",
    "import os\n",
    "from google.cloud import speech"
   ]
  },
  {
   "cell_type": "code",
   "execution_count": 7,
   "id": "53589766",
   "metadata": {},
   "outputs": [],
   "source": [
    "os.environ['GOOGLE_APPLICATION_CREDENTIALS'] = r'avian-tract-283207-f1553ac44767.json'"
   ]
  },
  {
   "cell_type": "code",
   "execution_count": 154,
   "id": "31aeb525",
   "metadata": {},
   "outputs": [],
   "source": [
    "client = speech.SpeechClient()"
   ]
  },
  {
   "cell_type": "code",
   "execution_count": 156,
   "id": "22e3f356",
   "metadata": {},
   "outputs": [],
   "source": [
    "with io.open('record.wav','rb') as audio_file:\n",
    "    content = audio_file.read()\n",
    "audio = speech.RecognitionAudio(content=content)\n",
    "\n",
    "# content = myrecording\n",
    "# audio = speech.RecognitionAudio(content=content)"
   ]
  },
  {
   "cell_type": "code",
   "execution_count": 157,
   "id": "93275e4a",
   "metadata": {},
   "outputs": [],
   "source": [
    "config = speech.RecognitionConfig(\n",
    "    encoding = speech.RecognitionConfig.AudioEncoding.LINEAR16,\n",
    "    language_code = 'en-US')"
   ]
  },
  {
   "cell_type": "code",
   "execution_count": 158,
   "id": "7f3c86e6",
   "metadata": {},
   "outputs": [
    {
     "name": "stdout",
     "output_type": "stream",
     "text": [
      "Waiting for operation to complete...\n",
      "Transcript: I know another I'm 20 years old I'm still in the in the faculty of medicine and Science University in the Spanish Department\n"
     ]
    }
   ],
   "source": [
    "operation = client.long_running_recognize(config=config, audio=audio)\n",
    "print(\"Waiting for operation to complete...\")\n",
    "response = operation.result(timeout=90)\n",
    "for result in response.results:\n",
    "    print('Transcript: {}'.format(result.alternatives[0].transcript))"
   ]
  },
  {
   "cell_type": "code",
   "execution_count": null,
   "id": "708dbc5b",
   "metadata": {},
   "outputs": [],
   "source": []
  },
  {
   "cell_type": "code",
   "execution_count": null,
   "id": "ad41a7ef",
   "metadata": {},
   "outputs": [],
   "source": []
  },
  {
   "cell_type": "code",
   "execution_count": null,
   "id": "242d1a53",
   "metadata": {},
   "outputs": [],
   "source": []
  }
 ],
 "metadata": {
  "kernelspec": {
   "display_name": "Python 3",
   "language": "python",
   "name": "python3"
  },
  "language_info": {
   "codemirror_mode": {
    "name": "ipython",
    "version": 3
   },
   "file_extension": ".py",
   "mimetype": "text/x-python",
   "name": "python",
   "nbconvert_exporter": "python",
   "pygments_lexer": "ipython3",
   "version": "3.8.8"
  }
 },
 "nbformat": 4,
 "nbformat_minor": 5
}
