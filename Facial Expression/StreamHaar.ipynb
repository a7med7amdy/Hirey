{
 "cells": [
  {
   "cell_type": "code",
   "execution_count": null,
   "metadata": {},
   "outputs": [],
   "source": [
    "import cv2\n",
    "emotion_dict = ('Angry','contempt' ,'Disgust', 'Fear', 'Happy','Sad', 'Surprise')\n",
    "\n",
    "device = \"cpu\"\n",
    "val_transform = transforms.Compose([\n",
    "        transforms.ToTensor(),transforms.Normalize((0.5,),(0.5,))])\n",
    "net = Deep_Emotion()\n",
    "net.load_state_dict(torch.load('C:/Users/nourg/Desktop/4th Year/GP/archive/deep_emotion_ck+-100-64-0.005-97%.pt'))\n",
    "net.to(device)\n",
    "net.eval()\n",
    "cap = cv2.VideoCapture(0)\n",
    "\n",
    "count = 0\n",
    "\n",
    "while True:\n",
    "    ret, frame = cap.read()\n",
    "    gray = cv2.cvtColor(frame, cv2.COLOR_BGR2GRAY)\n",
    "    \n",
    "    count +=1\n",
    "    if True:\n",
    "        face_cascade = cv2.CascadeClassifier('C:/Users/nourg/anaconda3/Library/etc/haarcascades/haarcascade_frontalface_default.xml')\n",
    "        faces = face_cascade.detectMultiScale(frame)\n",
    "        for (x, y, w, h) in faces:\n",
    "            cv2.rectangle(frame, (x,y), (x+w, y+h), (255,0,0), 2)\n",
    "            resize_frame = cv2.resize(gray[y:y + h, x:x + w], (48, 48))\n",
    "            X = resize_frame/256\n",
    "#         cv2.imwrite(\"roi.jpg\", X)\n",
    "#         plt.imshow(X,'gray')\n",
    "#         plt.show()\n",
    "            X = Image.fromarray((X))\n",
    "            X = val_transform(X).unsqueeze(0)\n",
    "            with torch.no_grad():\n",
    "                net.eval()\n",
    "                out = net(X)\n",
    "                pred = F.softmax(out,dim=1)\n",
    "                classs = torch.argmax(pred,1)\n",
    "                pred = emotion_dict[classs.item()]\n",
    "            cv2.putText(frame, pred, (x, y), cv2.FONT_HERSHEY_SIMPLEX, 0.8, (0, 255, 0), 1)\n",
    "            count = 0\n",
    "    cv2.imshow('frame', frame)\n",
    "    if cv2.waitKey(1) & 0xFF == ord('q'):\n",
    "        break\n",
    "\n",
    "cap.release()\n",
    "cv2.destroyAllWindows()"
   ]
  }
 ],
 "metadata": {
  "kernelspec": {
   "display_name": "Python 3",
   "language": "python",
   "name": "python3"
  },
  "language_info": {
   "codemirror_mode": {
    "name": "ipython",
    "version": 3
   },
   "file_extension": ".py",
   "mimetype": "text/x-python",
   "name": "python",
   "nbconvert_exporter": "python",
   "pygments_lexer": "ipython3",
   "version": "3.8.5"
  }
 },
 "nbformat": 4,
 "nbformat_minor": 4
}
